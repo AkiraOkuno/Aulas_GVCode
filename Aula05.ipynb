{
 "cells": [
  {
   "cell_type": "markdown",
   "metadata": {},
   "source": [
    "# Aula 05 - GVCode\n",
    "\n",
    "## Web Scraping"
   ]
  },
  {
   "cell_type": "code",
   "execution_count": null,
   "metadata": {},
   "outputs": [],
   "source": [
    "from bs4 import BeautifulSoup as bs\n",
    "from selenium import webdriver\n",
    "from selenium.webdriver.support.ui import WebDriverWait\n",
    "from selenium.webdriver.common.by import By\n",
    "from selenium.common.exceptions import TimeoutException\n",
    "from selenium.webdriver.support import expected_conditions as EC"
   ]
  },
  {
   "cell_type": "code",
   "execution_count": null,
   "metadata": {},
   "outputs": [],
   "source": [
    "link_res = \"https://www.resultados.com/futebol/brasil/serie-a-2017/resultados/\"\n",
    "path = r\"C:\\Users\\Usuario\\Documents\\FGV\\GVCode\\Python\\phantomjs.exe\""
   ]
  },
  {
   "cell_type": "code",
   "execution_count": null,
   "metadata": {},
   "outputs": [],
   "source": [
    "def open_page(link):\n",
    "    i = 0\n",
    "    driver = webdriver.PhantomJS(executable_path=path)\n",
    "    driver.get(link)\n",
    "    timeout = 5\n",
    "    wait = WebDriverWait(driver,timeout=timeout)\n",
    "    try:\n",
    "        wait\n",
    "    except:\n",
    "        print(\"Erro, página não carregou\")\n",
    "        driver.quit()\n",
    "    while i <= 30:\n",
    "        try:\n",
    "            element = wait.until(EC.element_to_be_clickable((By.LINK_TEXT, 'Mostrar mais jogos')))\n",
    "            element.click()\n",
    "            print(i)\n",
    "            i += 1\n",
    "        except:\n",
    "            break\n",
    "    source = driver.page_source\n",
    "    soup = bs(source, \"html.parser\")\n",
    "    print(soup)\n",
    "    return soup"
   ]
  },
  {
   "cell_type": "code",
   "execution_count": null,
   "metadata": {},
   "outputs": [],
   "source": [
    "import re"
   ]
  },
  {
   "cell_type": "code",
   "execution_count": null,
   "metadata": {},
   "outputs": [],
   "source": [
    "def parse_info(bsObj):\n",
    "    casa = []\n",
    "    visita = []\n",
    "    resultados = []\n",
    "    for team in bsObj.findAll('span', {'class': 'padr'}):\n",
    "        timecasa = team.contents[0]\n",
    "        casa.append(timecasa)\n",
    "    for team in bsObj.findAll('span', {'class': 'padl'}):\n",
    "        timevis = team.contents[0]\n",
    "        visita.append(timevis)\n",
    "    for result in bsObj.findAll('td', {'class': re.compile('cell_sa score')}):\n",
    "        res = result.string\n",
    "        resultados.append(res)\n",
    "    print(len(casa))\n",
    "    print(len(visita))\n",
    "    print(len(resultados))\n",
    "    return casa, visita, resultados"
   ]
  },
  {
   "cell_type": "code",
   "execution_count": null,
   "metadata": {},
   "outputs": [],
   "source": [
    "# timesC, timesV, resultado = parse_info(open_page(link_res))\n",
    "# essa linha em cima existe pra mostrar que até agora está tudo funcionando e pra atribuir varios valores simult."
   ]
  },
  {
   "cell_type": "code",
   "execution_count": null,
   "metadata": {},
   "outputs": [],
   "source": [
    "import pandas as pd"
   ]
  },
  {
   "cell_type": "code",
   "execution_count": null,
   "metadata": {},
   "outputs": [],
   "source": [
    "def dataframing(home, away, result):\n",
    "    df = pd.DataFrame()\n",
    "    df['Times jogando em casa'] = home\n",
    "    df['Times visitantes'] = away\n",
    "    df['Resultado casa:visita'] = result\n",
    "    return df"
   ]
  },
  {
   "cell_type": "code",
   "execution_count": null,
   "metadata": {},
   "outputs": [],
   "source": [
    "def make_it_run(first_year):\n",
    "    year = first_year\n",
    "    while year <= 2017:\n",
    "        link = 'https://www.resultados.com/futebol/brasil/serie-a-{}/resultados/'.format(year)\n",
    "        timesC, timesV, resultado = parse_info(open_page(link))\n",
    "        df = dataframing(timesC, timesV, resultado)\n",
    "        df.to_csv('Jogos Brasileirão {}.csv'.format(year))\n",
    "        year += 1"
   ]
  },
  {
   "cell_type": "code",
   "execution_count": null,
   "metadata": {},
   "outputs": [],
   "source": [
    "make_it_run(2012)"
   ]
  }
 ],
 "metadata": {
  "kernelspec": {
   "display_name": "Python 3",
   "language": "python",
   "name": "python3"
  },
  "language_info": {
   "codemirror_mode": {
    "name": "ipython",
    "version": 3
   },
   "file_extension": ".py",
   "mimetype": "text/x-python",
   "name": "python",
   "nbconvert_exporter": "python",
   "pygments_lexer": "ipython3",
   "version": "3.6.4"
  }
 },
 "nbformat": 4,
 "nbformat_minor": 2
}
