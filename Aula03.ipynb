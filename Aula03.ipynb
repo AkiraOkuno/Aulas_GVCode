{
 "cells": [
  {
   "cell_type": "markdown",
   "metadata": {},
   "source": [
    "# GVCode Aula 03: Exercitar Python\n",
    "\n",
    "## #1: Calcular o valor de uma função polinomial de grau N"
   ]
  },
  {
   "cell_type": "code",
   "execution_count": 3,
   "metadata": {},
   "outputs": [],
   "source": [
    "def calc_poly(degree, parameters, input):\n",
    "    '''\n",
    "    degree = grau do polinomio\n",
    "    parameters = lista de parametros do polinomio. Ex: [1,2,3] -> f(x) = 1 + 2x + 3x^2\n",
    "    inputs => x value => f(input) = f(1) = 1 + 2*1 + 3*1^2\n",
    "    '''\n",
    "    \n",
    "    if len(parameters) != degree + 1:\n",
    "        print('O grau do polinômio é diferente do número de parâmetros que você inseriu!')\n",
    "    \n",
    "    i = 0\n",
    "    soma = 0\n",
    "    for value in parameters:\n",
    "        k = value * (input ** i)\n",
    "        i = i + 1\n",
    "        soma  = soma + k\n",
    "    \n",
    "    return(soma)\n",
    "    "
   ]
  },
  {
   "cell_type": "code",
   "execution_count": 5,
   "metadata": {},
   "outputs": [
    {
     "data": {
      "text/plain": [
       "3"
      ]
     },
     "execution_count": 5,
     "metadata": {},
     "output_type": "execute_result"
    }
   ],
   "source": [
    "calc_poly(2, [1,1,1], 1)"
   ]
  },
  {
   "cell_type": "markdown",
   "metadata": {},
   "source": [
    "## Como fazer o cálculo para uma série de números de uma vez só?"
   ]
  },
  {
   "cell_type": "code",
   "execution_count": 6,
   "metadata": {},
   "outputs": [],
   "source": [
    "import numpy as np"
   ]
  },
  {
   "cell_type": "code",
   "execution_count": 9,
   "metadata": {},
   "outputs": [],
   "source": [
    "inputs = np.linspace(0,10,100)"
   ]
  },
  {
   "cell_type": "code",
   "execution_count": 8,
   "metadata": {},
   "outputs": [
    {
     "data": {
      "text/plain": [
       "array([ 0.        ,  0.1010101 ,  0.2020202 ,  0.3030303 ,  0.4040404 ,\n",
       "        0.50505051,  0.60606061,  0.70707071,  0.80808081,  0.90909091,\n",
       "        1.01010101,  1.11111111,  1.21212121,  1.31313131,  1.41414141,\n",
       "        1.51515152,  1.61616162,  1.71717172,  1.81818182,  1.91919192,\n",
       "        2.02020202,  2.12121212,  2.22222222,  2.32323232,  2.42424242,\n",
       "        2.52525253,  2.62626263,  2.72727273,  2.82828283,  2.92929293,\n",
       "        3.03030303,  3.13131313,  3.23232323,  3.33333333,  3.43434343,\n",
       "        3.53535354,  3.63636364,  3.73737374,  3.83838384,  3.93939394,\n",
       "        4.04040404,  4.14141414,  4.24242424,  4.34343434,  4.44444444,\n",
       "        4.54545455,  4.64646465,  4.74747475,  4.84848485,  4.94949495,\n",
       "        5.05050505,  5.15151515,  5.25252525,  5.35353535,  5.45454545,\n",
       "        5.55555556,  5.65656566,  5.75757576,  5.85858586,  5.95959596,\n",
       "        6.06060606,  6.16161616,  6.26262626,  6.36363636,  6.46464646,\n",
       "        6.56565657,  6.66666667,  6.76767677,  6.86868687,  6.96969697,\n",
       "        7.07070707,  7.17171717,  7.27272727,  7.37373737,  7.47474747,\n",
       "        7.57575758,  7.67676768,  7.77777778,  7.87878788,  7.97979798,\n",
       "        8.08080808,  8.18181818,  8.28282828,  8.38383838,  8.48484848,\n",
       "        8.58585859,  8.68686869,  8.78787879,  8.88888889,  8.98989899,\n",
       "        9.09090909,  9.19191919,  9.29292929,  9.39393939,  9.49494949,\n",
       "        9.5959596 ,  9.6969697 ,  9.7979798 ,  9.8989899 , 10.        ])"
      ]
     },
     "execution_count": 8,
     "metadata": {},
     "output_type": "execute_result"
    }
   ],
   "source": [
    "inputs"
   ]
  },
  {
   "cell_type": "markdown",
   "metadata": {},
   "source": [
    "### Lembram das expressões Lambda?"
   ]
  },
  {
   "cell_type": "code",
   "execution_count": 10,
   "metadata": {},
   "outputs": [],
   "source": [
    "degree = 2\n",
    "parameters = [1,1,1]"
   ]
  },
  {
   "cell_type": "code",
   "execution_count": 11,
   "metadata": {},
   "outputs": [],
   "source": [
    "function = lambda x : calc_poly(degree, parameters, x)"
   ]
  },
  {
   "cell_type": "code",
   "execution_count": 17,
   "metadata": {},
   "outputs": [],
   "source": [
    "results = map(function, inputs)"
   ]
  },
  {
   "cell_type": "code",
   "execution_count": 18,
   "metadata": {},
   "outputs": [
    {
     "data": {
      "text/plain": [
       "[1.0,\n",
       " 1.111213141516172,\n",
       " 1.2428323640444852,\n",
       " 1.3948576675849402,\n",
       " 1.5672890521375369,\n",
       " 1.7601265177022754,\n",
       " 1.9733700642791552,\n",
       " 2.207019691868177,\n",
       " 2.4610754004693396,\n",
       " 2.7355371900826446,\n",
       " 3.0304050607080915,\n",
       " 3.345679012345679,\n",
       " 3.681359044995409,\n",
       " 4.03744515865728,\n",
       " 4.413937353331293,\n",
       " 4.810835629017447,\n",
       " 5.2281399857157425,\n",
       " 5.66585042342618,\n",
       " 6.12396694214876,\n",
       " 6.602489541883481,\n",
       " 7.101418222630345,\n",
       " 7.620752984389347,\n",
       " 8.160493827160494,\n",
       " 8.720640750943781,\n",
       " 9.301193755739211,\n",
       " 9.90215284154678,\n",
       " 10.523518008366494,\n",
       " 11.165289256198346,\n",
       " 11.827466585042343,\n",
       " 12.510049994898479,\n",
       " 13.213039485766757,\n",
       " 13.936435057647177,\n",
       " 14.68023671053974,\n",
       " 15.444444444444446,\n",
       " 16.229058259361288,\n",
       " 17.034078155290278,\n",
       " 17.859504132231404,\n",
       " 18.705336190184674,\n",
       " 19.571574329150085,\n",
       " 20.45821854912764,\n",
       " 21.36526885011734,\n",
       " 22.292725232119167,\n",
       " 23.240587695133147,\n",
       " 24.208856239159267,\n",
       " 25.19753086419753,\n",
       " 26.20661157024793,\n",
       " 27.23609835731048,\n",
       " 28.285991225385164,\n",
       " 29.356290174471994,\n",
       " 30.446995204570968,\n",
       " 31.558106315682068,\n",
       " 32.68962350780532,\n",
       " 33.84154678094072,\n",
       " 35.01387613508826,\n",
       " 36.20661157024793,\n",
       " 37.41975308641975,\n",
       " 38.65330068360371,\n",
       " 39.90725436179982,\n",
       " 41.18161412100805,\n",
       " 42.47637996122844,\n",
       " 43.79155188246097,\n",
       " 45.12712988470564,\n",
       " 46.483113967962446,\n",
       " 47.85950413223141,\n",
       " 49.256300377512495,\n",
       " 50.67350270380574,\n",
       " 52.111111111111114,\n",
       " 53.569125599428624,\n",
       " 55.04754616875829,\n",
       " 56.54637281910009,\n",
       " 58.06560555045404,\n",
       " 59.60524436282011,\n",
       " 61.16528925619834,\n",
       " 62.74574023058871,\n",
       " 64.34659728599124,\n",
       " 65.96786042240586,\n",
       " 67.60952963983267,\n",
       " 69.2716049382716,\n",
       " 70.95408631772268,\n",
       " 72.65697377818589,\n",
       " 74.38026731966127,\n",
       " 76.12396694214877,\n",
       " 77.88807264564838,\n",
       " 79.67258443016019,\n",
       " 81.4775022956841,\n",
       " 83.30282624222019,\n",
       " 85.14855626976839,\n",
       " 87.01469237832872,\n",
       " 88.90123456790124,\n",
       " 90.80818283848586,\n",
       " 92.73553719008262,\n",
       " 94.68329762269157,\n",
       " 96.65146413631261,\n",
       " 98.64003673094582,\n",
       " 100.64901540659116,\n",
       " 102.67840016324864,\n",
       " 104.72819100091829,\n",
       " 106.79838791960003,\n",
       " 108.88899091929396,\n",
       " 111.0]"
      ]
     },
     "execution_count": 18,
     "metadata": {},
     "output_type": "execute_result"
    }
   ],
   "source": [
    "list(results)"
   ]
  },
  {
   "cell_type": "markdown",
   "metadata": {},
   "source": [
    "##  #2: Montar uma função fatorial!"
   ]
  },
  {
   "cell_type": "code",
   "execution_count": 23,
   "metadata": {},
   "outputs": [],
   "source": [
    "def factorial(n):\n",
    "    \n",
    "    if type(n) != int:\n",
    "        print('Insira um número inteiro!')\n",
    "        \n",
    "    else:\n",
    "        \n",
    "        if n == 0:\n",
    "            fact = 1\n",
    "        else:\n",
    "            fact = n * factorial(n-1)\n",
    "        \n",
    "        return(fact)\n",
    "    "
   ]
  },
  {
   "cell_type": "code",
   "execution_count": 31,
   "metadata": {},
   "outputs": [],
   "source": [
    "#VAMOS CHECAR PARA VARIOS NUMEROS"
   ]
  },
  {
   "cell_type": "code",
   "execution_count": 32,
   "metadata": {},
   "outputs": [],
   "source": [
    "numeros = range(10)"
   ]
  },
  {
   "cell_type": "code",
   "execution_count": 37,
   "metadata": {},
   "outputs": [],
   "source": [
    "fatoriais = map(lambda x: factorial(x), numeros)"
   ]
  },
  {
   "cell_type": "code",
   "execution_count": 38,
   "metadata": {},
   "outputs": [
    {
     "data": {
      "text/plain": [
       "[1, 1, 2, 6, 24, 120, 720, 5040, 40320, 362880]"
      ]
     },
     "execution_count": 38,
     "metadata": {},
     "output_type": "execute_result"
    }
   ],
   "source": [
    "list(fatoriais)"
   ]
  },
  {
   "cell_type": "code",
   "execution_count": null,
   "metadata": {},
   "outputs": [],
   "source": []
  }
 ],
 "metadata": {
  "kernelspec": {
   "display_name": "Python 3",
   "language": "python",
   "name": "python3"
  },
  "language_info": {
   "codemirror_mode": {
    "name": "ipython",
    "version": 3
   },
   "file_extension": ".py",
   "mimetype": "text/x-python",
   "name": "python",
   "nbconvert_exporter": "python",
   "pygments_lexer": "ipython3",
   "version": "3.6.4"
  }
 },
 "nbformat": 4,
 "nbformat_minor": 2
}
