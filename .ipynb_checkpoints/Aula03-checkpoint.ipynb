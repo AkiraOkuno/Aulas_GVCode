{
 "cells": [
  {
   "cell_type": "markdown",
   "metadata": {},
   "source": [
    "# GVCode Aula 03: Exercitar Python\n",
    "\n",
    "## #1 Ordem de Compra e Venda"
   ]
  },
  {
   "cell_type": "code",
   "execution_count": null,
   "metadata": {},
   "outputs": [],
   "source": [
    "prices_1 = [1.1, 1.2]\n",
    "prices_2 = [1.1, 1.5]\n",
    "prices_3 = [1.1, 0.9]"
   ]
  },
  {
   "cell_type": "code",
   "execution_count": null,
   "metadata": {},
   "outputs": [],
   "source": [
    "def compra_venda(prices):\n",
    "    \n",
    "    variacao = (prices[1]/prices[0]) - 1\n",
    "    \n",
    "    if variacao > 0.15:\n",
    "        ordem = \"COMPRA!\"\n",
    "    elif variacao < - 0.10:\n",
    "        ordem = \"VENDA!\"\n",
    "    else:\n",
    "        ordem = \"MANTÉM!\"\n",
    "    \n",
    "    return ordem"
   ]
  },
  {
   "cell_type": "code",
   "execution_count": null,
   "metadata": {},
   "outputs": [],
   "source": [
    "lista = [prices_1, prices_2, prices_3]"
   ]
  },
  {
   "cell_type": "code",
   "execution_count": null,
   "metadata": {},
   "outputs": [],
   "source": [
    "ordens = list(map(lambda x : compra_venda(x), lista))"
   ]
  },
  {
   "cell_type": "code",
   "execution_count": null,
   "metadata": {},
   "outputs": [],
   "source": [
    "ordens"
   ]
  },
  {
   "cell_type": "markdown",
   "metadata": {},
   "source": [
    "## #2: Gerador de senhas c/ letras maiúsculas, minúsculas, números e caracteres especiais"
   ]
  },
  {
   "cell_type": "code",
   "execution_count": null,
   "metadata": {},
   "outputs": [],
   "source": [
    "import random\n",
    "\n",
    "char = \"abcdefghijklmnopqrstuvwxyzABCDEFGHIJKLMNOPQRSTUVWXYZ0123456789!@#$%^&*()?\"\n",
    "\n",
    "def generate(passlen):\n",
    "    if type(passlen) != int:\n",
    "        print(\"Por favor digite um número inteiro.\")\n",
    "    else:\n",
    "        senha = \"\".join(random.sample(char, passlen))\n",
    "        print(senha)"
   ]
  },
  {
   "cell_type": "code",
   "execution_count": null,
   "metadata": {},
   "outputs": [],
   "source": [
    "generate(10)"
   ]
  },
  {
   "cell_type": "markdown",
   "metadata": {},
   "source": [
    "## #3: Contador de frequência de palavras de uma string longa"
   ]
  },
  {
   "cell_type": "code",
   "execution_count": null,
   "metadata": {},
   "outputs": [],
   "source": [
    "# Contador de frequência de palavras de uma string longa\n",
    "\n",
    "texto = r'olá tudo bem com você? você olá tudo'\n",
    "\n",
    "\n",
    "def freq_counter(txt):\n",
    "    t = txt.replace(\"?\", \"\")\n",
    "    lista_palavras = t.split()\n",
    "    # .split é um método nativo de python. Sem parâmetros, ele divide uma string em cada \" \" dela\n",
    "    freq = [lista_palavras.count(n) for n in lista_palavras]\n",
    "    print(texto)\n",
    "    print(set(zip(lista_palavras, freq)))"
   ]
  },
  {
   "cell_type": "code",
   "execution_count": null,
   "metadata": {},
   "outputs": [],
   "source": [
    "freq_counter(texto)"
   ]
  },
  {
   "cell_type": "markdown",
   "metadata": {},
   "source": [
    "## #4: Calcular o valor de uma função polinomial de grau N"
   ]
  },
  {
   "cell_type": "code",
   "execution_count": null,
   "metadata": {},
   "outputs": [],
   "source": [
    "def calc_poly(degree, parameters, x_input):\n",
    "    '''\n",
    "    degree = grau do polinomio\n",
    "    parameters = lista de parametros do polinomio. Ex: [1,2,3] -> f(x) = 1 + 2x + 3x^2\n",
    "    inputs => x value => f(input) = f(1) = 1 + 2*1 + 3*1^2\n",
    "    '''\n",
    "    \n",
    "    if len(parameters) != degree + 1:\n",
    "        print('O grau do polinômio é diferente do número de parâmetros que você inseriu!')\n",
    "    \n",
    "    i = 0\n",
    "    soma = 0\n",
    "    for value in parameters:\n",
    "        k = value * (x_input ** i)\n",
    "        i = i + 1\n",
    "        soma  = soma + k\n",
    "    \n",
    "    return(soma)\n",
    "    "
   ]
  },
  {
   "cell_type": "code",
   "execution_count": null,
   "metadata": {},
   "outputs": [],
   "source": [
    "calc_poly(2, [1,1,1], 1)"
   ]
  },
  {
   "cell_type": "markdown",
   "metadata": {},
   "source": [
    "## Como fazer o cálculo para uma série de números de uma vez só?"
   ]
  },
  {
   "cell_type": "code",
   "execution_count": null,
   "metadata": {},
   "outputs": [],
   "source": [
    "import numpy as np"
   ]
  },
  {
   "cell_type": "code",
   "execution_count": null,
   "metadata": {},
   "outputs": [],
   "source": [
    "inputs = np.linspace(0,10,100)"
   ]
  },
  {
   "cell_type": "code",
   "execution_count": null,
   "metadata": {},
   "outputs": [],
   "source": [
    "inputs"
   ]
  },
  {
   "cell_type": "markdown",
   "metadata": {},
   "source": [
    "### Lembram das expressões Lambda?"
   ]
  },
  {
   "cell_type": "code",
   "execution_count": null,
   "metadata": {},
   "outputs": [],
   "source": [
    "degree = 2\n",
    "parameters = [1,1,1]"
   ]
  },
  {
   "cell_type": "code",
   "execution_count": null,
   "metadata": {},
   "outputs": [],
   "source": [
    "function = lambda x : calc_poly(degree, parameters, x)"
   ]
  },
  {
   "cell_type": "code",
   "execution_count": null,
   "metadata": {},
   "outputs": [],
   "source": [
    "results = map(function, inputs)"
   ]
  },
  {
   "cell_type": "code",
   "execution_count": null,
   "metadata": {},
   "outputs": [],
   "source": [
    "list(results)"
   ]
  },
  {
   "cell_type": "markdown",
   "metadata": {},
   "source": [
    "##  #5: Montar uma função fatorial!"
   ]
  },
  {
   "cell_type": "code",
   "execution_count": null,
   "metadata": {},
   "outputs": [],
   "source": [
    "def factorial(n):\n",
    "    \n",
    "    if type(n) != int:\n",
    "        print('Insira um número inteiro!')\n",
    "        \n",
    "    else:\n",
    "        \n",
    "        if n == 0:\n",
    "            fact = 1\n",
    "        else:\n",
    "            fact = n * factorial(n-1)\n",
    "        \n",
    "        return(fact)\n",
    "    "
   ]
  },
  {
   "cell_type": "code",
   "execution_count": null,
   "metadata": {},
   "outputs": [],
   "source": [
    "factorial(5)"
   ]
  },
  {
   "cell_type": "code",
   "execution_count": null,
   "metadata": {},
   "outputs": [],
   "source": [
    "#VAMOS CHECAR PARA VARIOS NUMEROS"
   ]
  },
  {
   "cell_type": "code",
   "execution_count": null,
   "metadata": {},
   "outputs": [],
   "source": [
    "numeros = range(10)"
   ]
  },
  {
   "cell_type": "code",
   "execution_count": null,
   "metadata": {},
   "outputs": [],
   "source": [
    "fatoriais = map(lambda x: factorial(x), numeros)"
   ]
  },
  {
   "cell_type": "code",
   "execution_count": null,
   "metadata": {},
   "outputs": [],
   "source": [
    "list(fatoriais)"
   ]
  },
  {
   "cell_type": "markdown",
   "metadata": {},
   "source": [
    "## #6: Jogo da Forca"
   ]
  },
  {
   "cell_type": "code",
   "execution_count": null,
   "metadata": {},
   "outputs": [],
   "source": [
    "palavra = \"gvcode\"\n",
    "lista = list(palavra)\n",
    "lista = set(lista)"
   ]
  },
  {
   "cell_type": "code",
   "execution_count": null,
   "metadata": {},
   "outputs": [],
   "source": [
    "lista"
   ]
  },
  {
   "cell_type": "code",
   "execution_count": null,
   "metadata": {},
   "outputs": [],
   "source": [
    "lista.remove('c')"
   ]
  },
  {
   "cell_type": "code",
   "execution_count": null,
   "metadata": {},
   "outputs": [],
   "source": [
    "lista"
   ]
  },
  {
   "cell_type": "code",
   "execution_count": null,
   "metadata": {},
   "outputs": [],
   "source": [
    "a = set()"
   ]
  },
  {
   "cell_type": "code",
   "execution_count": null,
   "metadata": {},
   "outputs": [],
   "source": [
    "len(a)"
   ]
  },
  {
   "cell_type": "code",
   "execution_count": null,
   "metadata": {},
   "outputs": [],
   "source": [
    "def jogo_da_forca( n_tentativas):\n",
    "    \n",
    "    palavra = input(\"Insira uma palavra a ser adivinhada: \")\n",
    "    \n",
    "    if type(palavra) != str:\n",
    "        print(\"Insira uma palavra!!!\")\n",
    "        \n",
    "    else:\n",
    "        letras = list(palavra)\n",
    "        letras = set(letras)\n",
    "        \n",
    "        trials = n_tentativas\n",
    "        \n",
    "        while (trials > 0):\n",
    "            \n",
    "            tentativa = input(\"Diga uma letra: \")\n",
    "            \n",
    "            if tentativa in letras:\n",
    "                letras.remove(tentativa)\n",
    "            \n",
    "            trials = trials - 1\n",
    "            \n",
    "            if trials == 0:\n",
    "                if len(letras) == 0:\n",
    "                    print(\"Parabéns, vc ganhou!!!\")\n",
    "                else:\n",
    "                    print(\"Você Perdeu!!!\")\n",
    "                break\n",
    "            "
   ]
  },
  {
   "cell_type": "code",
   "execution_count": null,
   "metadata": {},
   "outputs": [],
   "source": [
    "jogo_da_forca(6)"
   ]
  }
 ],
 "metadata": {
  "kernelspec": {
   "display_name": "Python 3",
   "language": "python",
   "name": "python3"
  },
  "language_info": {
   "codemirror_mode": {
    "name": "ipython",
    "version": 3
   },
   "file_extension": ".py",
   "mimetype": "text/x-python",
   "name": "python",
   "nbconvert_exporter": "python",
   "pygments_lexer": "ipython3",
   "version": "3.6.4"
  }
 },
 "nbformat": 4,
 "nbformat_minor": 2
}
